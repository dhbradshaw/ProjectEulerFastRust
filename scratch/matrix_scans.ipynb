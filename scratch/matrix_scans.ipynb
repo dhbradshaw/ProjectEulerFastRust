{
 "cells": [
  {
   "cell_type": "markdown",
   "metadata": {},
   "source": [
    "# Goal: return a set of diagonal scans across a square matrix.  \n",
    "Each scan contains tuples that give the x and y coordinates of the nodes hit in that scan."
   ]
  },
  {
   "cell_type": "code",
   "execution_count": 1,
   "metadata": {},
   "outputs": [
    {
     "ename": "NameError",
     "evalue": "name 'ascending_scan' is not defined",
     "output_type": "error",
     "traceback": [
      "\u001b[0;31m---------------------------------------------------------------------------\u001b[0m",
      "\u001b[0;31mNameError\u001b[0m                                 Traceback (most recent call last)",
      "\u001b[0;32m<ipython-input-1-31ff599e6e38>\u001b[0m in \u001b[0;36m<module>\u001b[0;34m()\u001b[0m\n\u001b[0;32m----> 1\u001b[0;31m assert(ascending_scan(2) == [\n\u001b[0m\u001b[1;32m      2\u001b[0m     \u001b[0;34m[\u001b[0m\u001b[0;34m(\u001b[0m\u001b[0;36m0\u001b[0m\u001b[0;34m,\u001b[0m \u001b[0;36m0\u001b[0m\u001b[0;34m)\u001b[0m\u001b[0;34m]\u001b[0m\u001b[0;34m,\u001b[0m\u001b[0;34m\u001b[0m\u001b[0m\n\u001b[1;32m      3\u001b[0m     \u001b[0;34m[\u001b[0m\u001b[0;34m(\u001b[0m\u001b[0;36m1\u001b[0m\u001b[0;34m,\u001b[0m \u001b[0;36m0\u001b[0m\u001b[0;34m)\u001b[0m\u001b[0;34m,\u001b[0m\u001b[0;34m(\u001b[0m\u001b[0;36m0\u001b[0m\u001b[0;34m,\u001b[0m \u001b[0;36m1\u001b[0m\u001b[0;34m)\u001b[0m\u001b[0;34m]\u001b[0m\u001b[0;34m,\u001b[0m\u001b[0;34m\u001b[0m\u001b[0m\n\u001b[1;32m      4\u001b[0m     \u001b[0;34m[\u001b[0m\u001b[0;34m(\u001b[0m\u001b[0;36m1\u001b[0m\u001b[0;34m,\u001b[0m \u001b[0;36m1\u001b[0m\u001b[0;34m)\u001b[0m\u001b[0;34m]\u001b[0m\u001b[0;34m\u001b[0m\u001b[0m\n\u001b[1;32m      5\u001b[0m ])\n",
      "\u001b[0;31mNameError\u001b[0m: name 'ascending_scan' is not defined"
     ]
    }
   ],
   "source": [
    "assert(ascending_scan(2) == [\n",
    "    [(0, 0)],\n",
    "    [(1, 0),(0, 1)],\n",
    "    [(1, 1)]\n",
    "])"
   ]
  },
  {
   "cell_type": "code",
   "execution_count": 25,
   "metadata": {},
   "outputs": [],
   "source": [
    "def ascend(pair):\n",
    "    i, j = pair\n",
    "    return (i - 1, j + 1)\n",
    "\n",
    "def next_first(first, order):\n",
    "    i, j = first\n",
    "    if i < order - 1:\n",
    "        return (i + 1, j)\n",
    "    elif j < order - 1:\n",
    "        return (first[0], first[1] + 1)\n",
    "    else:\n",
    "        return None\n",
    "\n",
    "def next_last(last, order):\n",
    "    i, j = last\n",
    "    if j < order - 1:\n",
    "        return (i, j + 1)\n",
    "    elif i < order - 1:\n",
    "        return (i + 1, j)\n",
    "    else:\n",
    "        return None\n",
    "\n",
    "def ascending_scan(order):\n",
    "    first = (0, 0)\n",
    "    last = (0, 0)\n",
    "    scans = []\n",
    "    while first:\n",
    "        current = first\n",
    "        scan = []\n",
    "        while current[0] >= last[0] or current[1] <= last[1]:\n",
    "            scan.append(current)\n",
    "            current = ascend(current)\n",
    "        scans.append(scan)\n",
    "        first = next_first(first, order)\n",
    "        last = next_last(last, order)\n",
    "    return scans"
   ]
  },
  {
   "cell_type": "code",
   "execution_count": 30,
   "metadata": {},
   "outputs": [
    {
     "data": {
      "text/plain": [
       "[[(0, 0)],\n",
       " [(1, 0), (0, 1)],\n",
       " [(2, 0), (1, 1), (0, 2)],\n",
       " [(3, 0), (2, 1), (1, 2), (0, 3)],\n",
       " [(3, 1), (2, 2), (1, 3)],\n",
       " [(3, 2), (2, 3)],\n",
       " [(3, 3)]]"
      ]
     },
     "execution_count": 30,
     "metadata": {},
     "output_type": "execute_result"
    }
   ],
   "source": [
    "ascending_scan(4)"
   ]
  },
  {
   "cell_type": "code",
   "execution_count": 34,
   "metadata": {},
   "outputs": [],
   "source": [
    "def firsts(order):\n",
    "    i, j, highest = 0, 0, order - 1\n",
    "    while i + j <= 2 * highest:\n",
    "        print((i, j))\n",
    "        if i < highest:\n",
    "            i += 1\n",
    "        elif j < highest:\n",
    "            j += 1\n",
    "        else:\n",
    "            break"
   ]
  },
  {
   "cell_type": "code",
   "execution_count": 38,
   "metadata": {},
   "outputs": [
    {
     "name": "stdout",
     "output_type": "stream",
     "text": [
      "(0, 0)\n",
      "(1, 0)\n",
      "(2, 0)\n",
      "(3, 0)\n",
      "(3, 1)\n",
      "(3, 2)\n",
      "(3, 3)\n"
     ]
    }
   ],
   "source": [
    "firsts(4)"
   ]
  },
  {
   "cell_type": "markdown",
   "metadata": {},
   "source": [
    "    first:\n",
    "    i = min(sum, highest)\n",
    "    j = sum - i\n",
    "\n",
    "    last:\n",
    "    j = min(sum, highest)\n",
    "    i = sum - j"
   ]
  },
  {
   "cell_type": "code",
   "execution_count": null,
   "metadata": {
    "collapsed": true
   },
   "outputs": [],
   "source": []
  }
 ],
 "metadata": {
  "kernelspec": {
   "display_name": "Python 3",
   "language": "python",
   "name": "python3"
  },
  "language_info": {
   "codemirror_mode": {
    "name": "ipython",
    "version": 3
   },
   "file_extension": ".py",
   "mimetype": "text/x-python",
   "name": "python",
   "nbconvert_exporter": "python",
   "pygments_lexer": "ipython3",
   "version": "3.5.2"
  }
 },
 "nbformat": 4,
 "nbformat_minor": 2
}
